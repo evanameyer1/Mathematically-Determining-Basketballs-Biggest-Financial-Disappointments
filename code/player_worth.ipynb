{
 "cells": [
  {
   "cell_type": "code",
   "execution_count": 1,
   "id": "1b8b5393-2708-45bc-8e81-6c8a9c032203",
   "metadata": {},
   "outputs": [],
   "source": [
    "import requests\n",
    "from bs4 import BeautifulSoup as soup\n",
    "import pandas as pd\n",
    "import psycopg2\n",
    "import pprint"
   ]
  },
  {
   "cell_type": "code",
   "execution_count": 2,
   "id": "9809cd0b-0b61-4b3d-9c42-d9e7fb942cf8",
   "metadata": {},
   "outputs": [],
   "source": [
    "conn_string = \"host='localhost' dbname='nba_disappointments' user='postgres' password='password'\"\n",
    "conn = psycopg2.connect(conn_string)\n",
    "c = conn.cursor()"
   ]
  },
  {
   "cell_type": "code",
   "execution_count": 3,
   "id": "3c556f57-f717-4c30-b5dc-f64991184622",
   "metadata": {},
   "outputs": [],
   "source": [
    "for year in range(1996, 2022):\n",
    "    with conn.cursor() as cur:\n",
    "        cur.execute(f'''\n",
    "        drop table player_scores_{year}\n",
    "        ;\n",
    "        ''')\n",
    "    \n",
    "    # Commit the changes to the database\n",
    "    conn.commit()"
   ]
  },
  {
   "cell_type": "code",
   "execution_count": 4,
   "id": "ab8dcea7-df15-4d67-ad4e-3032e1f07893",
   "metadata": {
    "tags": []
   },
   "outputs": [],
   "source": [
    "for year in range(1996, 2022):\n",
    "    with conn.cursor() as cur:\n",
    "        cur.execute(f'''\n",
    "        CREATE TABLE player_scores_{year} AS (\n",
    "            select\n",
    "                sub.uuid,\n",
    "                sub.year,\n",
    "                sub.team,\n",
    "                sub.player,\n",
    "                sub.salary,\n",
    "                sub.percent_of_team,\n",
    "                sub.wins as wins_contributed,\n",
    "                case when sub.relative_wins = 0 then 0 else (sub.percent_of_team / sub.relative_wins)::decimal(6,2) end as production_score\n",
    "                from (\n",
    "                    with t1 as (\n",
    "                        select \n",
    "                            avg(adjusted_wins)::Decimal(6,2) as avg_wins\n",
    "                            from stats_{year}\n",
    "                    ),\n",
    "\n",
    "                    t2 as (\n",
    "                        select\n",
    "                            sal.uuid,\n",
    "                            sal.year,\n",
    "                            sal.team,\n",
    "                            sal.player,\n",
    "                            salary,\n",
    "                            (perc)::decimal(6,4) as percent_of_team,\n",
    "                            perc_score as salary_score,\n",
    "                            wins,\n",
    "                            (adjusted_wins)::Decimal(6,2) as adjusted_wins\n",
    "                            from team_salaries_{year} sal\n",
    "                            left join stats_{year} stat\n",
    "                                using(uuid)\n",
    "                    )\n",
    "\n",
    "                    select \n",
    "                        t2.*,\n",
    "                        (t2.adjusted_wins / t1.avg_wins)::decimal(6,4) as relative_wins\n",
    "                        from t1, t2\n",
    "                ) sub\n",
    "                where wins IS NOT NULL\n",
    "                order by 8 desc\n",
    "        );\n",
    "        ''')\n",
    "    \n",
    "    # Commit the changes to the database\n",
    "    conn.commit()"
   ]
  },
  {
   "cell_type": "code",
   "execution_count": 3,
   "id": "2e0d2a5b-2083-4011-a1ab-5d79d5eed141",
   "metadata": {},
   "outputs": [],
   "source": [
    "with conn.cursor() as cur:\n",
    "    \n",
    "    # Generate the SELECT statement to union all tables from 1996 to 2021\n",
    "    select_query = ' UNION ALL '.join([f'SELECT * FROM player_scores_{year}' for year in range(1996, 2022)])\n",
    "    \n",
    "    # Insert the selected data from all tables into the new table\n",
    "    cur.execute(f'''create table player_scores as (\n",
    "    SELECT * FROM ({select_query}) AS all_scores);''')\n",
    "    \n",
    "    # Commit the changes to the database\n",
    "    conn.commit()\n",
    "\n",
    "# Close the database connection\n",
    "conn.close()"
   ]
  },
  {
   "cell_type": "code",
   "execution_count": 3,
   "id": "884cac28-d415-4a4e-b8e1-8540e7a186ec",
   "metadata": {},
   "outputs": [],
   "source": [
    "with conn.cursor() as cur:\n",
    "    \n",
    "    # Generate the SELECT statement to union all tables from 1996 to 2021\n",
    "    select_query = ' UNION ALL '.join([f'SELECT * FROM season_totals_{year}' for year in range(1996, 2022)])\n",
    "    \n",
    "    # Insert the selected data from all tables into the new table\n",
    "    cur.execute(f'''create table season_totals as (\n",
    "    SELECT * FROM ({select_query}) AS all_scores);''')\n",
    "    \n",
    "    # Commit the changes to the database\n",
    "    conn.commit()"
   ]
  }
 ],
 "metadata": {
  "kernelspec": {
   "display_name": "Python 3 (ipykernel)",
   "language": "python",
   "name": "python3"
  },
  "language_info": {
   "codemirror_mode": {
    "name": "ipython",
    "version": 3
   },
   "file_extension": ".py",
   "mimetype": "text/x-python",
   "name": "python",
   "nbconvert_exporter": "python",
   "pygments_lexer": "ipython3",
   "version": "3.9.13"
  }
 },
 "nbformat": 4,
 "nbformat_minor": 5
}
