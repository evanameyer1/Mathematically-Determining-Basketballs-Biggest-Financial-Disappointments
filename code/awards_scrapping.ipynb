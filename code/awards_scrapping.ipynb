{
 "cells": [
  {
   "cell_type": "code",
   "execution_count": 36,
   "id": "8eb21207-7bd4-4862-b1ee-e9b79084dc62",
   "metadata": {},
   "outputs": [],
   "source": [
    "import requests\n",
    "from bs4 import BeautifulSoup as soup\n",
    "import pandas as pd\n",
    "import uuid\n",
    "import difflib"
   ]
  },
  {
   "cell_type": "code",
   "execution_count": 37,
   "id": "318bda77-01df-484c-9208-eda062845f84",
   "metadata": {},
   "outputs": [
    {
     "data": {
      "text/html": [
       "<div>\n",
       "<style scoped>\n",
       "    .dataframe tbody tr th:only-of-type {\n",
       "        vertical-align: middle;\n",
       "    }\n",
       "\n",
       "    .dataframe tbody tr th {\n",
       "        vertical-align: top;\n",
       "    }\n",
       "\n",
       "    .dataframe thead th {\n",
       "        text-align: right;\n",
       "    }\n",
       "</style>\n",
       "<table border=\"1\" class=\"dataframe\">\n",
       "  <thead>\n",
       "    <tr style=\"text-align: right;\">\n",
       "      <th></th>\n",
       "      <th>Player</th>\n",
       "      <th>UUID</th>\n",
       "    </tr>\n",
       "  </thead>\n",
       "  <tbody>\n",
       "    <tr>\n",
       "      <th>0</th>\n",
       "      <td>Kevin Garnett</td>\n",
       "      <td>4035d838-5ed7-4507-86ad-0488a9b9c358</td>\n",
       "    </tr>\n",
       "    <tr>\n",
       "      <th>1</th>\n",
       "      <td>Shaquille O'Neal</td>\n",
       "      <td>74b99a51-bb65-436f-8bcc-7022af2a490a</td>\n",
       "    </tr>\n",
       "    <tr>\n",
       "      <th>2</th>\n",
       "      <td>Alonzo Mourning</td>\n",
       "      <td>8051eb29-ecd7-46b5-b2fa-415777e11e83</td>\n",
       "    </tr>\n",
       "    <tr>\n",
       "      <th>3</th>\n",
       "      <td>Juwan Howard</td>\n",
       "      <td>5bdd7fb5-050d-4b0c-befb-5fbf7109397c</td>\n",
       "    </tr>\n",
       "    <tr>\n",
       "      <th>4</th>\n",
       "      <td>Hakeem Olajuwon</td>\n",
       "      <td>be9d9c53-d445-4b8c-acc9-ad1c30e8598b</td>\n",
       "    </tr>\n",
       "    <tr>\n",
       "      <th>...</th>\n",
       "      <td>...</td>\n",
       "      <td>...</td>\n",
       "    </tr>\n",
       "    <tr>\n",
       "      <th>2224</th>\n",
       "      <td>Jordan Schakel</td>\n",
       "      <td>49852ad9-c5e3-4124-bd75-2ad27b5a859f</td>\n",
       "    </tr>\n",
       "    <tr>\n",
       "      <th>2225</th>\n",
       "      <td>Jordan Goodwin</td>\n",
       "      <td>70d9ad35-fb19-497a-a358-d77a2a2e89ba</td>\n",
       "    </tr>\n",
       "    <tr>\n",
       "      <th>2226</th>\n",
       "      <td>Craig Sword</td>\n",
       "      <td>c29acdbe-9077-44c0-a8b3-f997ddff72a2</td>\n",
       "    </tr>\n",
       "    <tr>\n",
       "      <th>2227</th>\n",
       "      <td>Jaime Echenique</td>\n",
       "      <td>727da240-fbce-4643-ba94-f74509e2e746</td>\n",
       "    </tr>\n",
       "    <tr>\n",
       "      <th>2228</th>\n",
       "      <td>Zavier Simpson</td>\n",
       "      <td>02af4e7e-85eb-4a39-a560-683c3fea3865</td>\n",
       "    </tr>\n",
       "  </tbody>\n",
       "</table>\n",
       "<p>2229 rows × 2 columns</p>\n",
       "</div>"
      ],
      "text/plain": [
       "                Player                                  UUID\n",
       "0        Kevin Garnett  4035d838-5ed7-4507-86ad-0488a9b9c358\n",
       "1     Shaquille O'Neal  74b99a51-bb65-436f-8bcc-7022af2a490a\n",
       "2      Alonzo Mourning  8051eb29-ecd7-46b5-b2fa-415777e11e83\n",
       "3         Juwan Howard  5bdd7fb5-050d-4b0c-befb-5fbf7109397c\n",
       "4      Hakeem Olajuwon  be9d9c53-d445-4b8c-acc9-ad1c30e8598b\n",
       "...                ...                                   ...\n",
       "2224    Jordan Schakel  49852ad9-c5e3-4124-bd75-2ad27b5a859f\n",
       "2225    Jordan Goodwin  70d9ad35-fb19-497a-a358-d77a2a2e89ba\n",
       "2226       Craig Sword  c29acdbe-9077-44c0-a8b3-f997ddff72a2\n",
       "2227   Jaime Echenique  727da240-fbce-4643-ba94-f74509e2e746\n",
       "2228    Zavier Simpson  02af4e7e-85eb-4a39-a560-683c3fea3865\n",
       "\n",
       "[2229 rows x 2 columns]"
      ]
     },
     "execution_count": 37,
     "metadata": {},
     "output_type": "execute_result"
    }
   ],
   "source": [
    "player_index = pd.read_csv('../updated_datasets/player_index.csv')\n",
    "player_index = player_index[player_index.columns[1:]]\n",
    "player_index"
   ]
  },
  {
   "cell_type": "code",
   "execution_count": 38,
   "id": "02f21bd5-a52e-4b18-9f5e-671eb0867678",
   "metadata": {},
   "outputs": [
    {
     "data": {
      "text/html": [
       "<div>\n",
       "<style scoped>\n",
       "    .dataframe tbody tr th:only-of-type {\n",
       "        vertical-align: middle;\n",
       "    }\n",
       "\n",
       "    .dataframe tbody tr th {\n",
       "        vertical-align: top;\n",
       "    }\n",
       "\n",
       "    .dataframe thead th {\n",
       "        text-align: right;\n",
       "    }\n",
       "</style>\n",
       "<table border=\"1\" class=\"dataframe\">\n",
       "  <thead>\n",
       "    <tr style=\"text-align: right;\">\n",
       "      <th></th>\n",
       "      <th>New_name</th>\n",
       "      <th>Original_name</th>\n",
       "    </tr>\n",
       "  </thead>\n",
       "  <tbody>\n",
       "    <tr>\n",
       "      <th>0</th>\n",
       "      <td>Darrell Armstrong</td>\n",
       "      <td>Darrel Armstrong</td>\n",
       "    </tr>\n",
       "    <tr>\n",
       "      <th>1</th>\n",
       "      <td>Predrag Stojakovic</td>\n",
       "      <td>Peja Stojakovic</td>\n",
       "    </tr>\n",
       "    <tr>\n",
       "      <th>2</th>\n",
       "      <td>PJ Brown</td>\n",
       "      <td>P.J. Brown</td>\n",
       "    </tr>\n",
       "    <tr>\n",
       "      <th>3</th>\n",
       "      <td>Jaren Jackson Jr</td>\n",
       "      <td>Jaren Jackson</td>\n",
       "    </tr>\n",
       "    <tr>\n",
       "      <th>4</th>\n",
       "      <td>AJ Guyton</td>\n",
       "      <td>A.J. Guyton</td>\n",
       "    </tr>\n",
       "  </tbody>\n",
       "</table>\n",
       "</div>"
      ],
      "text/plain": [
       "             New_name     Original_name\n",
       "0   Darrell Armstrong  Darrel Armstrong\n",
       "1  Predrag Stojakovic   Peja Stojakovic\n",
       "2            PJ Brown        P.J. Brown\n",
       "3    Jaren Jackson Jr     Jaren Jackson\n",
       "4           AJ Guyton       A.J. Guyton"
      ]
     },
     "execution_count": 38,
     "metadata": {},
     "output_type": "execute_result"
    }
   ],
   "source": [
    "null_players = pd.read_csv('../updated_datasets/null_players.csv')\n",
    "null_players = null_players[null_players.columns[1:]]\n",
    "null_players.head()"
   ]
  },
  {
   "cell_type": "code",
   "execution_count": 3,
   "id": "c7d51179-b4d4-485e-926a-ef2809463c3c",
   "metadata": {
    "tags": []
   },
   "outputs": [],
   "source": [
    "table_list = []\n",
    "df_list = []\n",
    "def awards_data(website):\n",
    "    main = soup(requests.get(website).text, 'html.parser')\n",
    "    links = [a['href'] for a in main.find_all('a', class_='bi', href=True)]\n",
    "    links.remove('//www.espn.com/nba/history/awards/_/id/34')\n",
    "    \n",
    "    for link in links:\n",
    "        #grab the header of the website page\n",
    "        name = str(soup(requests.get(f'http:{link}').text).select('h2')[0]).replace(\n",
    "            '<h2>', '').replace('</h2>', '').replace('<h2>', '').partition('- ')[-1].split()\n",
    "        \n",
    "        #'the' doesn't get iterated through so remove it\n",
    "        if 'the' in name:\n",
    "            name.remove('the')\n",
    "            \n",
    "        #set variable name to the first two capitalized words of the header\n",
    "        if len(name) > 1:\n",
    "            for word in name:\n",
    "                if word[0] != word[0].upper():\n",
    "                    name.remove(word)\n",
    "            var_name = (name[0] + '_' + name[1]).lower().replace('-', '_')\n",
    "        else:\n",
    "            var_name = ''.join(name).lower()\n",
    "        \n",
    "        table_list.append(var_name)\n",
    "        \n",
    "        #grab the datset\n",
    "        globals()[var_name] = pd.read_html(requests.get(f'http:{link}').text)[0]\n",
    "        \n",
    "        #clean the data\n",
    "        globals()[var_name].columns = globals()[var_name].iloc[1].str.capitalize()\n",
    "        globals()[var_name] = globals()[var_name].tail(-2)\n",
    "\n",
    "        #some tables have blank year columns so filter for that\n",
    "        globals()[var_name].fillna(method='ffill', inplace=True)\n",
    "\n",
    "        #more cleaning\n",
    "        globals()[var_name] = globals()[var_name][globals()[var_name]['Year'].astype('int') >= 2000]\n",
    "        globals()[var_name] = globals()[var_name][globals()[var_name].columns[:4]]\n",
    "\n",
    "        #gather uuids\n",
    "        globals()[var_name] = pd.merge(left=globals()[var_name], right=player_index, how='left', on='Player')\n",
    "        \n",
    "        #locate mispelled names\n",
    "        null_players = []\n",
    "        for row in globals()[var_name][globals()[var_name]['UUID'].isnull()]['Player']:\n",
    "            null_players.append(row)\n",
    "        null_players = pd.DataFrame(null_players, columns=['Player']).drop_duplicates()\n",
    "        \n",
    "        #locate correct names from index\n",
    "        nearest_name = []\n",
    "        original_name = []\n",
    "        for name in null_players['Player']:\n",
    "            close_matches = difflib.get_close_matches(name, player_index['Player'], 1)\n",
    "            for x in close_matches:\n",
    "                    nearest_name.append(x)\n",
    "                    original_name.append(name)\n",
    "        nearest_name = pd.DataFrame(nearest_name, columns=['New_name'])\n",
    "        nearest_name['Original_name'] = original_name\n",
    "        \n",
    "        #fix mispelled names \n",
    "        for bad_name in globals()[var_name]['Player']:\n",
    "            if bad_name in [x for x in nearest_name['Original_name']]:\n",
    "                globals()[var_name].loc[globals()[var_name][globals()[var_name]['Player'] == bad_name].index, 'Player'] = [\n",
    "                    x for x in nearest_name[nearest_name['Original_name'] == bad_name]['New_name']][0]\n",
    "        \n",
    "        #merge w/ index table to add unique ids and save csvs\n",
    "        globals()[var_name] = pd.merge(left=globals()[var_name], right=player_index, how='left', on='Player')\n",
    "        globals()[var_name].drop(columns=['UUID_x'], inplace=True)\n",
    "        globals()[var_name].rename(columns={'UUID_y':'UUID'}, inplace=True)\n",
    "        globals()[var_name].to_csv(f'../updated_datasets/awards_data/{var_name}.csv')\n",
    "        \n",
    "        #add dataframe to my output list of dataframes\n",
    "        df_list.append(globals()[var_name])\n",
    "\n",
    "    return table_list"
   ]
  },
  {
   "cell_type": "code",
   "execution_count": 4,
   "id": "00c2d37d-53ad-418a-9fa8-06f4ff945f64",
   "metadata": {
    "tags": []
   },
   "outputs": [
    {
     "data": {
      "text/plain": [
       "['mvp',\n",
       " 'defensive_player',\n",
       " 'rookie_year',\n",
       " 'sixth_man',\n",
       " 'most_improved',\n",
       " 'finals_mvp',\n",
       " 'all_star_mvp',\n",
       " 'all_nba_1st',\n",
       " 'all_nba_2nd',\n",
       " 'all_nba_3rd',\n",
       " 'all_rookie_1st',\n",
       " 'all_rookie_2nd',\n",
       " 'all_defensive_1st',\n",
       " 'all_defensive_2nd']"
      ]
     },
     "execution_count": 4,
     "metadata": {},
     "output_type": "execute_result"
    }
   ],
   "source": [
    "awards_data('http://www.espn.com/nba/history/awards')"
   ]
  },
  {
   "cell_type": "code",
   "execution_count": 5,
   "id": "332db7fc-14af-40ac-905d-761a48717363",
   "metadata": {
    "tags": []
   },
   "outputs": [
    {
     "data": {
      "text/html": [
       "<div>\n",
       "<style scoped>\n",
       "    .dataframe tbody tr th:only-of-type {\n",
       "        vertical-align: middle;\n",
       "    }\n",
       "\n",
       "    .dataframe tbody tr th {\n",
       "        vertical-align: top;\n",
       "    }\n",
       "\n",
       "    .dataframe thead th {\n",
       "        text-align: right;\n",
       "    }\n",
       "</style>\n",
       "<table border=\"1\" class=\"dataframe\">\n",
       "  <thead>\n",
       "    <tr style=\"text-align: right;\">\n",
       "      <th></th>\n",
       "      <th>Year</th>\n",
       "      <th>Player</th>\n",
       "      <th>Pos</th>\n",
       "      <th>Team</th>\n",
       "      <th>UUID</th>\n",
       "    </tr>\n",
       "  </thead>\n",
       "  <tbody>\n",
       "    <tr>\n",
       "      <th>0</th>\n",
       "      <td>2022</td>\n",
       "      <td>Tyler Herro</td>\n",
       "      <td>PG</td>\n",
       "      <td>Miami Heat</td>\n",
       "      <td>b1359ec1-999b-418f-84e8-791659e3d59c</td>\n",
       "    </tr>\n",
       "    <tr>\n",
       "      <th>1</th>\n",
       "      <td>2021</td>\n",
       "      <td>Jordan Clarkson</td>\n",
       "      <td>PG</td>\n",
       "      <td>Utah Jazz</td>\n",
       "      <td>d7aa0308-767f-4f9a-905e-8800e7c41ef7</td>\n",
       "    </tr>\n",
       "    <tr>\n",
       "      <th>2</th>\n",
       "      <td>2020</td>\n",
       "      <td>Montrezl Harrell</td>\n",
       "      <td>F</td>\n",
       "      <td>LA Clippers</td>\n",
       "      <td>64379148-f232-45b7-abe0-c3f3b5c6138a</td>\n",
       "    </tr>\n",
       "    <tr>\n",
       "      <th>3</th>\n",
       "      <td>2019</td>\n",
       "      <td>Louis Williams</td>\n",
       "      <td>G</td>\n",
       "      <td>LA Clippers</td>\n",
       "      <td>d861edd2-969c-4d79-ae0d-9c6d1ffa11d2</td>\n",
       "    </tr>\n",
       "    <tr>\n",
       "      <th>4</th>\n",
       "      <td>2018</td>\n",
       "      <td>Louis Williams</td>\n",
       "      <td>G</td>\n",
       "      <td>LA Clippers</td>\n",
       "      <td>d861edd2-969c-4d79-ae0d-9c6d1ffa11d2</td>\n",
       "    </tr>\n",
       "  </tbody>\n",
       "</table>\n",
       "</div>"
      ],
      "text/plain": [
       "   Year            Player Pos         Team  \\\n",
       "0  2022       Tyler Herro  PG   Miami Heat   \n",
       "1  2021   Jordan Clarkson  PG    Utah Jazz   \n",
       "2  2020  Montrezl Harrell   F  LA Clippers   \n",
       "3  2019    Louis Williams   G  LA Clippers   \n",
       "4  2018    Louis Williams   G  LA Clippers   \n",
       "\n",
       "                                   UUID  \n",
       "0  b1359ec1-999b-418f-84e8-791659e3d59c  \n",
       "1  d7aa0308-767f-4f9a-905e-8800e7c41ef7  \n",
       "2  64379148-f232-45b7-abe0-c3f3b5c6138a  \n",
       "3  d861edd2-969c-4d79-ae0d-9c6d1ffa11d2  \n",
       "4  d861edd2-969c-4d79-ae0d-9c6d1ffa11d2  "
      ]
     },
     "execution_count": 5,
     "metadata": {},
     "output_type": "execute_result"
    }
   ],
   "source": [
    "sixth_man.head()"
   ]
  },
  {
   "cell_type": "code",
   "execution_count": 6,
   "id": "8e306792-4bee-42b3-a6ec-da1411e6105d",
   "metadata": {},
   "outputs": [
    {
     "data": {
      "text/html": [
       "<div>\n",
       "<style scoped>\n",
       "    .dataframe tbody tr th:only-of-type {\n",
       "        vertical-align: middle;\n",
       "    }\n",
       "\n",
       "    .dataframe tbody tr th {\n",
       "        vertical-align: top;\n",
       "    }\n",
       "\n",
       "    .dataframe thead th {\n",
       "        text-align: right;\n",
       "    }\n",
       "</style>\n",
       "<table border=\"1\" class=\"dataframe\">\n",
       "  <thead>\n",
       "    <tr style=\"text-align: right;\">\n",
       "      <th></th>\n",
       "      <th>Year</th>\n",
       "      <th>Player</th>\n",
       "      <th>Pos</th>\n",
       "      <th>Team</th>\n",
       "      <th>UUID</th>\n",
       "    </tr>\n",
       "  </thead>\n",
       "  <tbody>\n",
       "    <tr>\n",
       "      <th>0</th>\n",
       "      <td>2022</td>\n",
       "      <td>Nikola Jokic</td>\n",
       "      <td>C</td>\n",
       "      <td>Denver Nuggets</td>\n",
       "      <td>4d321b07-ade4-497c-be07-e8335e03b288</td>\n",
       "    </tr>\n",
       "    <tr>\n",
       "      <th>1</th>\n",
       "      <td>2021</td>\n",
       "      <td>Nikola Jokic</td>\n",
       "      <td>C</td>\n",
       "      <td>Denver Nuggets</td>\n",
       "      <td>4d321b07-ade4-497c-be07-e8335e03b288</td>\n",
       "    </tr>\n",
       "    <tr>\n",
       "      <th>2</th>\n",
       "      <td>2020</td>\n",
       "      <td>Giannis Antetokounmpo</td>\n",
       "      <td>F</td>\n",
       "      <td>Milwaukee Bucks</td>\n",
       "      <td>f5e976f0-2383-4f34-869e-912b0daebc1d</td>\n",
       "    </tr>\n",
       "    <tr>\n",
       "      <th>3</th>\n",
       "      <td>2019</td>\n",
       "      <td>Giannis Antetokounmpo</td>\n",
       "      <td>F</td>\n",
       "      <td>Milwaukee Bucks</td>\n",
       "      <td>f5e976f0-2383-4f34-869e-912b0daebc1d</td>\n",
       "    </tr>\n",
       "    <tr>\n",
       "      <th>4</th>\n",
       "      <td>2018</td>\n",
       "      <td>James Harden</td>\n",
       "      <td>G</td>\n",
       "      <td>Houston Rockets</td>\n",
       "      <td>ef0995d8-4803-48be-b6b8-d6cdc7e8c433</td>\n",
       "    </tr>\n",
       "  </tbody>\n",
       "</table>\n",
       "</div>"
      ],
      "text/plain": [
       "   Year                 Player Pos             Team  \\\n",
       "0  2022           Nikola Jokic   C   Denver Nuggets   \n",
       "1  2021           Nikola Jokic   C   Denver Nuggets   \n",
       "2  2020  Giannis Antetokounmpo   F  Milwaukee Bucks   \n",
       "3  2019  Giannis Antetokounmpo   F  Milwaukee Bucks   \n",
       "4  2018           James Harden   G  Houston Rockets   \n",
       "\n",
       "                                   UUID  \n",
       "0  4d321b07-ade4-497c-be07-e8335e03b288  \n",
       "1  4d321b07-ade4-497c-be07-e8335e03b288  \n",
       "2  f5e976f0-2383-4f34-869e-912b0daebc1d  \n",
       "3  f5e976f0-2383-4f34-869e-912b0daebc1d  \n",
       "4  ef0995d8-4803-48be-b6b8-d6cdc7e8c433  "
      ]
     },
     "execution_count": 6,
     "metadata": {},
     "output_type": "execute_result"
    }
   ],
   "source": [
    "mvp.head()"
   ]
  },
  {
   "cell_type": "code",
   "execution_count": 7,
   "id": "523bf6cf-880e-4ef3-adb7-2ed2e3b10552",
   "metadata": {},
   "outputs": [],
   "source": [
    "all_rookie_1st.loc[all_rookie_1st[all_rookie_1st['Player'] == 'Nene Hilario'].index, 'Player'] = 'Nenê'"
   ]
  },
  {
   "cell_type": "code",
   "execution_count": 8,
   "id": "a688bb07-cc28-44f4-aa45-7a11670584c5",
   "metadata": {},
   "outputs": [],
   "source": [
    "all_rookie_1st.loc[all_rookie_1st[all_rookie_1st['Player'] == 'Nenê'].index, 'UUID'] = '71b3fc68-5b92-4644-af01-caa989d432ad'"
   ]
  },
  {
   "cell_type": "code",
   "execution_count": 9,
   "id": "d3cf1e98-9ba7-4b66-a075-c7c7d78b11a5",
   "metadata": {},
   "outputs": [],
   "source": [
    "#readd_uuids(all_rookie_1st)"
   ]
  },
  {
   "cell_type": "code",
   "execution_count": 10,
   "id": "7556ca75-feaf-4de6-91a0-f6a15dc509ea",
   "metadata": {},
   "outputs": [
    {
     "data": {
      "text/html": [
       "<div>\n",
       "<style scoped>\n",
       "    .dataframe tbody tr th:only-of-type {\n",
       "        vertical-align: middle;\n",
       "    }\n",
       "\n",
       "    .dataframe tbody tr th {\n",
       "        vertical-align: top;\n",
       "    }\n",
       "\n",
       "    .dataframe thead th {\n",
       "        text-align: right;\n",
       "    }\n",
       "</style>\n",
       "<table border=\"1\" class=\"dataframe\">\n",
       "  <thead>\n",
       "    <tr style=\"text-align: right;\">\n",
       "      <th></th>\n",
       "      <th>Year</th>\n",
       "      <th>Player</th>\n",
       "      <th>Pos</th>\n",
       "      <th>Team</th>\n",
       "      <th>UUID</th>\n",
       "    </tr>\n",
       "  </thead>\n",
       "  <tbody>\n",
       "    <tr>\n",
       "      <th>100</th>\n",
       "      <td>2003</td>\n",
       "      <td>Nenê</td>\n",
       "      <td>C</td>\n",
       "      <td>Denver Nuggets</td>\n",
       "      <td>71b3fc68-5b92-4644-af01-caa989d432ad</td>\n",
       "    </tr>\n",
       "  </tbody>\n",
       "</table>\n",
       "</div>"
      ],
      "text/plain": [
       "     Year Player Pos            Team                                  UUID\n",
       "100  2003   Nenê   C  Denver Nuggets  71b3fc68-5b92-4644-af01-caa989d432ad"
      ]
     },
     "execution_count": 10,
     "metadata": {},
     "output_type": "execute_result"
    }
   ],
   "source": [
    "all_rookie_1st[all_rookie_1st['Player'] == 'Nenê']"
   ]
  },
  {
   "cell_type": "code",
   "execution_count": 11,
   "id": "dc9ea37c-b543-43aa-a113-f160cf49d445",
   "metadata": {
    "tags": []
   },
   "outputs": [],
   "source": [
    "def define_nulls(tables):\n",
    "    null_players = []\n",
    "    for table in tables:\n",
    "        for row in table[table['UUID'].isnull()]['Player']:\n",
    "            null_players.append(row)\n",
    "    null_players = pd.DataFrame(null_players, columns=['Player']).drop_duplicates()\n",
    "    return null_players"
   ]
  },
  {
   "cell_type": "code",
   "execution_count": 12,
   "id": "610e9ee3-f4d6-47a7-ba13-75833e29977a",
   "metadata": {},
   "outputs": [
    {
     "data": {
      "text/html": [
       "<div>\n",
       "<style scoped>\n",
       "    .dataframe tbody tr th:only-of-type {\n",
       "        vertical-align: middle;\n",
       "    }\n",
       "\n",
       "    .dataframe tbody tr th {\n",
       "        vertical-align: top;\n",
       "    }\n",
       "\n",
       "    .dataframe thead th {\n",
       "        text-align: right;\n",
       "    }\n",
       "</style>\n",
       "<table border=\"1\" class=\"dataframe\">\n",
       "  <thead>\n",
       "    <tr style=\"text-align: right;\">\n",
       "      <th></th>\n",
       "      <th>Player</th>\n",
       "    </tr>\n",
       "  </thead>\n",
       "  <tbody>\n",
       "  </tbody>\n",
       "</table>\n",
       "</div>"
      ],
      "text/plain": [
       "Empty DataFrame\n",
       "Columns: [Player]\n",
       "Index: []"
      ]
     },
     "execution_count": 12,
     "metadata": {},
     "output_type": "execute_result"
    }
   ],
   "source": [
    "define_nulls(df_list)"
   ]
  },
  {
   "cell_type": "code",
   "execution_count": 13,
   "id": "7c79fca0-3ad8-46e0-bdf3-0c8b97bae472",
   "metadata": {},
   "outputs": [],
   "source": [
    "def search_index(table):\n",
    "    return sum([True if len(cell) > 0 else False for cell in [player_index[player_index['Player'] == row] for row in table['Player']]])"
   ]
  },
  {
   "cell_type": "code",
   "execution_count": 2,
   "id": "0b2336ac-15eb-4189-a77d-357958d946be",
   "metadata": {},
   "outputs": [],
   "source": [
    "def player_lookup(players, table):\n",
    "    player_lookup = pd.DataFrame(columns = ['Player', 'UUID'])\n",
    "    player_name = []\n",
    "    player_uuid = []\n",
    "    for player in players:\n",
    "            for name in table['Player']:\n",
    "                if player.lower() in name.lower():\n",
    "                    player_name.append(name)\n",
    "                    for uuid in table[table['Player'] == name]['UUID']:\n",
    "                        player_uuid.append(uuid)\n",
    "    player_lookup['Player'] = player_name\n",
    "    player_lookup['UUID'] = player_uuid\n",
    "    return player_lookup"
   ]
  },
  {
   "cell_type": "code",
   "execution_count": 21,
   "id": "16919a52-936b-4c2f-9959-c979043d1994",
   "metadata": {},
   "outputs": [
    {
     "data": {
      "text/html": [
       "<div>\n",
       "<style scoped>\n",
       "    .dataframe tbody tr th:only-of-type {\n",
       "        vertical-align: middle;\n",
       "    }\n",
       "\n",
       "    .dataframe tbody tr th {\n",
       "        vertical-align: top;\n",
       "    }\n",
       "\n",
       "    .dataframe thead th {\n",
       "        text-align: right;\n",
       "    }\n",
       "</style>\n",
       "<table border=\"1\" class=\"dataframe\">\n",
       "  <thead>\n",
       "    <tr style=\"text-align: right;\">\n",
       "      <th></th>\n",
       "      <th>Player</th>\n",
       "      <th>UUID</th>\n",
       "    </tr>\n",
       "  </thead>\n",
       "  <tbody>\n",
       "    <tr>\n",
       "      <th>0</th>\n",
       "      <td>Michael Curry</td>\n",
       "      <td>10edaf26-b605-4241-9ff9-860ea23101d6</td>\n",
       "    </tr>\n",
       "    <tr>\n",
       "      <th>1</th>\n",
       "      <td>Dell Curry</td>\n",
       "      <td>0ad833c1-5cc6-4eb9-80d6-dd3b9f3b3a19</td>\n",
       "    </tr>\n",
       "    <tr>\n",
       "      <th>2</th>\n",
       "      <td>Eddy Curry</td>\n",
       "      <td>5c066c64-425d-4ae2-ba7b-38715634f032</td>\n",
       "    </tr>\n",
       "    <tr>\n",
       "      <th>3</th>\n",
       "      <td>JamesOn Curry</td>\n",
       "      <td>af58af9b-67fd-4817-8684-7c62b8f6cc4f</td>\n",
       "    </tr>\n",
       "    <tr>\n",
       "      <th>4</th>\n",
       "      <td>Stephen Curry</td>\n",
       "      <td>2f1008df-4d89-43d1-b8be-b9f05520f109</td>\n",
       "    </tr>\n",
       "    <tr>\n",
       "      <th>5</th>\n",
       "      <td>Seth Curry</td>\n",
       "      <td>cccb6627-2815-4fe9-a8f0-848a8612a022</td>\n",
       "    </tr>\n",
       "  </tbody>\n",
       "</table>\n",
       "</div>"
      ],
      "text/plain": [
       "          Player                                  UUID\n",
       "0  Michael Curry  10edaf26-b605-4241-9ff9-860ea23101d6\n",
       "1     Dell Curry  0ad833c1-5cc6-4eb9-80d6-dd3b9f3b3a19\n",
       "2     Eddy Curry  5c066c64-425d-4ae2-ba7b-38715634f032\n",
       "3  JamesOn Curry  af58af9b-67fd-4817-8684-7c62b8f6cc4f\n",
       "4  Stephen Curry  2f1008df-4d89-43d1-b8be-b9f05520f109\n",
       "5     Seth Curry  cccb6627-2815-4fe9-a8f0-848a8612a022"
      ]
     },
     "execution_count": 21,
     "metadata": {},
     "output_type": "execute_result"
    }
   ],
   "source": [
    "player_lookup(['curry'], player_index)"
   ]
  },
  {
   "cell_type": "code",
   "execution_count": null,
   "id": "6ad0ff0d-c582-4a8c-8aff-cfa8fe34e0d5",
   "metadata": {},
   "outputs": [],
   "source": [
    "nearest_name(null_players['Player'])"
   ]
  },
  {
   "cell_type": "code",
   "execution_count": null,
   "id": "a5ce02fc-bba9-41af-b8e8-f895556a47c4",
   "metadata": {},
   "outputs": [],
   "source": [
    "table_list"
   ]
  },
  {
   "cell_type": "code",
   "execution_count": null,
   "id": "6c1718ba-f515-4422-ba45-3460afc93eda",
   "metadata": {},
   "outputs": [],
   "source": [
    "def patch_nulls(tables):\n",
    "    names = nearest_name(define_nulls(tables)['Player'])    \n",
    "    names['Check'] = ''\n",
    "    for table in tables:\n",
    "        for bad_name in table['Player']:\n",
    "            if bad_name in [x for x in names['Original_name']]:\n",
    "                table.loc[table[table['Player'] == bad_name].index, 'Player'] = [\n",
    "                    x for x in names[names['Original_name'] == bad_name]['New_name']][0]\n",
    "                names['Check'] = True\n",
    "        table = pd.merge(left=table, right=player_index, how='left', on='Player')\n",
    "    return names"
   ]
  },
  {
   "cell_type": "code",
   "execution_count": null,
   "id": "f0859ace-bb02-4f81-b716-a0168214593d",
   "metadata": {},
   "outputs": [],
   "source": [
    "#patch_nulls(df_list)"
   ]
  },
  {
   "cell_type": "code",
   "execution_count": null,
   "id": "b3bd58c6-f82a-4ee6-a52c-8995f61aa998",
   "metadata": {},
   "outputs": [],
   "source": [
    "player_lookup(['Nen'], player_index)"
   ]
  },
  {
   "cell_type": "code",
   "execution_count": null,
   "id": "eab1fe11-8c65-4057-bbd8-097a3bca76cb",
   "metadata": {},
   "outputs": [],
   "source": [
    "all_rookie_1st[all_rookie_1st['Player'] == 'Nenê']"
   ]
  },
  {
   "cell_type": "code",
   "execution_count": null,
   "id": "c7d6c8ae-178f-4e2a-8d39-6973e8d3530e",
   "metadata": {},
   "outputs": [],
   "source": [
    "player_index[player_index['Player'] == 'Nenê']"
   ]
  },
  {
   "cell_type": "code",
   "execution_count": 42,
   "id": "cd1e0348-9b27-4733-9b77-f94f67d6f8a2",
   "metadata": {},
   "outputs": [],
   "source": [
    "def grab_links(website):\n",
    "    links = []\n",
    "    main = soup(requests.get('http://www.espn.com/nba/history/awards').text, 'html.parser')\n",
    "    for a in main.find_all('a', class_='bi', href=True):\n",
    "        links.append(a['href'])\n",
    "    links.remove('//www.espn.com/nba/history/awards/_/id/34')\n",
    "    return links"
   ]
  },
  {
   "cell_type": "code",
   "execution_count": 55,
   "id": "35ed6699-0318-4dfb-813c-1eebf20e847b",
   "metadata": {},
   "outputs": [],
   "source": [
    "def define_table_names(link):\n",
    "    table_list = []\n",
    "    #grab the header of the website page\n",
    "    name = str(soup(requests.get(f'http:{link}').text).select('h2')[0]).replace(\n",
    "        '<h2>', '').replace('</h2>', '').replace('<h2>', '').partition('- ')[-1].split()\n",
    "\n",
    "    #'the' doesn't get iterated through so remove it\n",
    "    if 'the' in name:\n",
    "        name.remove('the')\n",
    "\n",
    "    #set variable name to the first two capitalized words of the header\n",
    "    if len(name) > 1:\n",
    "        for word in name:\n",
    "            if word[0] != word[0].upper():\n",
    "                name.remove(word)\n",
    "        var_name = (name[0] + '_' + name[1]).lower().replace('-', '_')\n",
    "    else:\n",
    "        var_name = ''.join(name).lower()\n",
    "\n",
    "    table_list.append(var_name)\n",
    "    return table_list"
   ]
  },
  {
   "cell_type": "code",
   "execution_count": 44,
   "id": "756172c0-a388-45be-b366-4bd4640af777",
   "metadata": {},
   "outputs": [],
   "source": [
    "def gather_data(link):\n",
    "    #grab the datset\n",
    "    globals()[var_name] = pd.read_html(requests.get(f'http:{link}').text)[0]"
   ]
  },
  {
   "cell_type": "code",
   "execution_count": 45,
   "id": "8ba82dc6-e520-48b0-9dbc-4963ef57a0d3",
   "metadata": {},
   "outputs": [],
   "source": [
    "def clean_data(table):\n",
    "    table.columns = table.iloc[1].str.capitalize()\n",
    "    table = table.tail(-2)    \n",
    "    table.fillna(method='ffill', inplace=True) #some tables have blank year columns so filter for that\n",
    "    table = table[table['Year'].astype('int') >= 2000]\n",
    "    table = table[table.columns[:4]]"
   ]
  },
  {
   "cell_type": "code",
   "execution_count": 46,
   "id": "34c2c1ca-5172-41d3-a088-6829a6453abe",
   "metadata": {},
   "outputs": [],
   "source": [
    "def merge_uuids(table):\n",
    "    table = pd.merge(left=table, right=player_index, how='left', on='Player')"
   ]
  },
  {
   "cell_type": "code",
   "execution_count": 47,
   "id": "07660dad-886e-4bdc-8aec-05f63ab2c674",
   "metadata": {
    "tags": []
   },
   "outputs": [],
   "source": [
    "def mispelled_names(table):\n",
    "    for row in table[table['UUID'].isnull()]['Player']:\n",
    "        null_players.append(row)\n",
    "    null_players = pd.DataFrame(null_players, columns=['Player']).drop_duplicates()"
   ]
  },
  {
   "cell_type": "code",
   "execution_count": 48,
   "id": "44be0061-c08b-4334-9f57-ea8969378a96",
   "metadata": {},
   "outputs": [],
   "source": [
    "def nearest_name(players):\n",
    "    nearest_name = []\n",
    "    original_name = []\n",
    "    for name in players['Player']:\n",
    "        close_matches = difflib.get_close_matches(name, player_index['Player'], 1)\n",
    "        for x in close_matches:\n",
    "                nearest_name.append(x)\n",
    "                original_name.append(name)\n",
    "    nearest_name = pd.DataFrame(nearest_name, columns=['New_name'])\n",
    "    nearest_name['Original_name'] = original_name"
   ]
  },
  {
   "cell_type": "code",
   "execution_count": 49,
   "id": "ba18d854-d4ec-475f-a2f3-e7bb42875588",
   "metadata": {},
   "outputs": [],
   "source": [
    "def correct_names(table):\n",
    "    for bad_name in table['Player']:\n",
    "        if bad_name in [x for x in null_players['Original_name']]:\n",
    "            table.loc[table[table['Player'] == bad_name].index, 'Player'] = [\n",
    "                x for x in null_players[null_players['Original_name'] == bad_name]['New_name']][0]"
   ]
  },
  {
   "cell_type": "code",
   "execution_count": 50,
   "id": "26ababfd-b5dd-43ca-a05c-5be7580c5c36",
   "metadata": {},
   "outputs": [],
   "source": [
    "def readd_uuids(table):\n",
    "    table = pd.merge(left=table, right=player_index, how='left', on='Player')\n",
    "    table.drop(columns=['UUID_x'], inplace=True)\n",
    "    table.rename(columns={'UUID_y':'UUID'}, inplace=True)\n",
    "    return table"
   ]
  },
  {
   "cell_type": "code",
   "execution_count": 59,
   "id": "7d5d4d8a-3e8c-4d06-903f-079e9b4194ef",
   "metadata": {
    "tags": []
   },
   "outputs": [],
   "source": [
    "table_list = []\n",
    "df_list = []\n",
    "def awards_data(website):\n",
    "    main = soup(requests.get(website).text, 'html.parser')\n",
    "    links = [a['href'] for a in main.find_all('a', class_='bi', href=True)]\n",
    "    links.remove('//www.espn.com/nba/history/awards/_/id/34')\n",
    "    \n",
    "    for link in links:\n",
    "        #grab the header of the website page\n",
    "        name = str(soup(requests.get(f'http:{link}').text).select('h2')[0]).replace(\n",
    "            '<h2>', '').replace('</h2>', '').replace('<h2>', '').partition('- ')[-1].split()\n",
    "        \n",
    "        #'the' doesn't get iterated through so remove it\n",
    "        if 'the' in name:\n",
    "            name.remove('the')\n",
    "            \n",
    "        #set variable name to the first two capitalized words of the header\n",
    "        if len(name) > 1:\n",
    "            for word in name:\n",
    "                if word[0] != word[0].upper():\n",
    "                    name.remove(word)\n",
    "            var_name = (name[0] + '_' + name[1]).lower().replace('-', '_')\n",
    "        else:\n",
    "            var_name = ''.join(name).lower()\n",
    "        \n",
    "        table_list.append(var_name)\n",
    "        \n",
    "        #grab the datset\n",
    "        globals()[var_name] = pd.read_html(requests.get(f'http:{link}').text)[0]\n",
    "        \n",
    "        #clean the data\n",
    "        globals()[var_name].columns = globals()[var_name].iloc[1].str.capitalize()\n",
    "        globals()[var_name] = globals()[var_name].tail(-2)\n",
    "\n",
    "        #some tables have blank year columns so filter for that\n",
    "        globals()[var_name].fillna(method='ffill', inplace=True)\n",
    "\n",
    "        #more cleaning\n",
    "        globals()[var_name] = globals()[var_name][globals()[var_name]['Year'].astype('int') >= 2000]\n",
    "        globals()[var_name] = globals()[var_name][globals()[var_name].columns[:4]]\n",
    "\n",
    "        #gather uuids\n",
    "        globals()[var_name] = pd.merge(left=globals()[var_name], right=player_index, how='left', on='Player')\n",
    "        \n",
    "        #fix mispelled names \n",
    "        for bad_name in globals()[var_name]['Player']:\n",
    "            if bad_name in [x for x in null_players['Original_name']]:\n",
    "                globals()[var_name].loc[globals()[var_name][globals()[var_name]['Player'] == bad_name].index, 'Player'] = [\n",
    "                    x for x in null_players[null_players['Original_name'] == bad_name]['New_name']][0]\n",
    "        \n",
    "        #merge w/ index table to add unique ids and save csvs\n",
    "        globals()[var_name] = pd.merge(left=globals()[var_name], right=player_index, how='left', on='Player')\n",
    "        globals()[var_name].dropna()\n",
    "        globals()[var_name].drop(columns=['UUID_x'], inplace=True)\n",
    "        globals()[var_name].rename(columns={'UUID_y':'UUID'}, inplace=True)\n",
    "        globals()[var_name].to_csv(f'../updated_datasets/awards_data/{var_name}.csv')\n",
    "        \n",
    "        #add dataframe to my output list of dataframes\n",
    "        df_list.append(globals()[var_name])\n",
    "\n",
    "    return table_list"
   ]
  },
  {
   "cell_type": "code",
   "execution_count": 60,
   "id": "5de9727c-da3d-467a-ba6a-50484e0f909e",
   "metadata": {},
   "outputs": [
    {
     "data": {
      "text/plain": [
       "['mvp',\n",
       " 'defensive_player',\n",
       " 'rookie_year',\n",
       " 'sixth_man',\n",
       " 'most_improved',\n",
       " 'finals_mvp',\n",
       " 'all_star_mvp',\n",
       " 'all_nba_1st',\n",
       " 'all_nba_2nd',\n",
       " 'all_nba_3rd',\n",
       " 'all_rookie_1st',\n",
       " 'all_rookie_2nd',\n",
       " 'all_defensive_1st',\n",
       " 'all_defensive_2nd']"
      ]
     },
     "execution_count": 60,
     "metadata": {},
     "output_type": "execute_result"
    }
   ],
   "source": [
    "awards_data('http://www.espn.com/nba/history/awards')"
   ]
  }
 ],
 "metadata": {
  "kernelspec": {
   "display_name": "Python 3 (ipykernel)",
   "language": "python",
   "name": "python3"
  },
  "language_info": {
   "codemirror_mode": {
    "name": "ipython",
    "version": 3
   },
   "file_extension": ".py",
   "mimetype": "text/x-python",
   "name": "python",
   "nbconvert_exporter": "python",
   "pygments_lexer": "ipython3",
   "version": "3.9.13"
  }
 },
 "nbformat": 4,
 "nbformat_minor": 5
}
